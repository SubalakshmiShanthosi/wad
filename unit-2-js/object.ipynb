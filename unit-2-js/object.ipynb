{
 "cells": [
  {
   "cell_type": "code",
   "execution_count": 6,
   "metadata": {},
   "outputs": [
    {
     "name": "stdout",
     "output_type": "stream",
     "text": [
      "{}\n",
      "{ x: 0, y: 0 }\n",
      "{ x: 0, y: 1 }\n",
      "{ 'main title': 'JavaScript',\n",
      "  'sub-title': 'Pocket Ref',\n",
      "  for: 'all audiences' }\n"
     ]
    }
   ],
   "source": [
    "var empty = {};\n",
    "// An object with no properties\n",
    "var point = { x:0, y:0 }; // Two properties\n",
    "var point2 = {\n",
    "// Another object literal\n",
    "x:point.x,\n",
    "// With more complex properties\n",
    "y:point.y+1\n",
    "};\n",
    "var book = { // Nonidentifier property names are quoted\n",
    "\"main title\": \"JavaScript\", // space in property name\n",
    "'sub-title': \"Pocket Ref\", // punctuation in name\n",
    "\"for\": \"all audiences\",\n",
    "// reserved word name\n",
    "};\n",
    "console.log(empty);\n",
    "console.log(point);\n",
    "console.log(point2);\n",
    "console.log(book);"
   ]
  },
  {
   "cell_type": "code",
   "execution_count": null,
   "metadata": {},
   "outputs": [],
   "source": []
  }
 ],
 "metadata": {
  "kernelspec": {
   "display_name": "Javascript (Node.js)",
   "language": "javascript",
   "name": "javascript"
  },
  "language_info": {
   "file_extension": ".js",
   "mimetype": "application/javascript",
   "name": "javascript",
   "version": "8.15.0"
  }
 },
 "nbformat": 4,
 "nbformat_minor": 2
}
